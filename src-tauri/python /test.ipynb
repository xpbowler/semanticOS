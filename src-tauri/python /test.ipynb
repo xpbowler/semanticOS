{
 "cells": [
  {
   "cell_type": "code",
   "execution_count": 3,
   "metadata": {},
   "outputs": [],
   "source": [
    "import hnswlib\n",
    "import numpy as np\n",
    "import time\n",
    "import os\n",
    "import pickle\n",
    "from sentence_transformers import SentenceTransformer\n",
    "model = SentenceTransformer('all-MiniLM-L6-v2')\n",
    "\n",
    "root_folder = '../'\n",
    "embeddings_location = 'embeddings.pkl'\n",
    "names_location = 'file_names.pkl'\n",
    "\n",
    "endings = []\n",
    "for ending in open('./data/endings.txt', 'r'): endings.append(ending.strip())\n",
    "excluded_folders = []\n",
    "for folder in open('./data/excluded_folders.txt', 'r'): excluded_folders.append(folder.strip())\n",
    "\n",
    "file_names = []\n",
    "for root, dirs, files in os.walk(root_folder):\n",
    "    for excluded_folder in excluded_folders:\n",
    "        if excluded_folder in dirs: dirs.remove(excluded_folder)\n",
    "    for file in files:\n",
    "        if file.endswith(tuple(endings)): file_names.append(os.path.join(root, file))\n",
    "file_names = list(map(lambda x: x.replace(root_folder, ''), file_names))\n",
    "embeddings = model.encode(file_names)\n",
    "with open('./data/embeddings_location.pkl', 'wb') as f: pickle.dump(embeddings, f)\n",
    "with open('./data/names_location.pkl', 'wb') as f: pickle.dump(file_names, f)"
   ]
  }
 ],
 "metadata": {
  "kernelspec": {
   "display_name": "tensorflow",
   "language": "python",
   "name": "python3"
  },
  "language_info": {
   "name": "python",
   "version": "3.10.10"
  }
 },
 "nbformat": 4,
 "nbformat_minor": 2
}
